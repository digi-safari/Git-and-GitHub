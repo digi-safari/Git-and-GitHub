
print("Hello, welcome to the Digi-Safari 'Git and GitHub' Course!")
